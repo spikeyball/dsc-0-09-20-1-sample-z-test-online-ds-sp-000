{
 "cells": [
  {
   "cell_type": "markdown",
   "metadata": {},
   "source": [
    "# One-sample z-test - Lab\n",
    "\n",
    "### Introduction\n",
    "In this lab we will go through quick tests to help you better understand the ideas around hypothesis testing.\n",
    "\n",
    "## Objectives\n",
    "You would be able to\n",
    "* Understand and explain use cases for a 1-sample z-test\n",
    "* Set up null and alternative hypotheses\n",
    "* Calculate z statistic using z-tables and cdf functions\n",
    "* Calculate and interpret p-value for significance of results."
   ]
  },
  {
   "cell_type": "markdown",
   "metadata": {},
   "source": [
    "## Exercise 1\n",
    "A rental car company claims the mean time to rent a car on their website is 60 seconds with a standard deviation of 30 seconds. A random sample of 36 customers attempted to rent a car on the website. The mean time to rent was 75 seconds. Is this enough evidence to contradict the company's claim? \n",
    "\n",
    "<img src=\"http://www.guptatravelsjabalpur.com/wp-content/uploads/2016/04/car-rentalservice.jpg\" width=400>\n",
    "\n",
    "Follow the 5 steps shown in previous lesson and use alpha = 0.05. "
   ]
  },
  {
   "cell_type": "code",
   "execution_count": 6,
   "metadata": {},
   "outputs": [],
   "source": [
    "# State you null and alternative hypotheses\n",
    "# The null hypothesis is that the mean time to rent a car is 60 seconds: H0 = 60 seconds\n",
    "# The alternative hypothesis is that the mean time to rent a car is not 60 seconds: Ha != 60 seconds\n"
   ]
  },
  {
   "cell_type": "code",
   "execution_count": 15,
   "metadata": {},
   "outputs": [
    {
     "name": "stdout",
     "output_type": "stream",
     "text": [
      "My z-statistic is 3.0, my z-score is 0.9986501019683699, and my p-value is 0.0013498980316301035\n"
     ]
    }
   ],
   "source": [
    "# Your solution here\n",
    "import numpy as np\n",
    "import scipy.stats as stats\n",
    "\n",
    "car_mean_h0 = 60\n",
    "car_mean_ha = 75\n",
    "car_std = 30\n",
    "cars = 36\n",
    "\n",
    "my_z_stat = (car_mean_ha - car_mean_h0) / (car_std / np.sqrt(cars))\n",
    "my_p_val = 1 - stats.norm.cdf(my_z_stat)\n",
    "z_score = stats.norm.cdf(my_z_stat)\n",
    "\n",
    "print(f'My z-statistic is {my_z_stat}, my z-score is {z_score}, and my p-value is {my_p_val}')\n",
    "\n",
    "\n",
    "# (p = 0.0013498980316301035, z = 3.0)"
   ]
  },
  {
   "cell_type": "code",
   "execution_count": 8,
   "metadata": {},
   "outputs": [],
   "source": [
    "# Interpret the results in terms of p-value obtained\n",
    "# Given the extremely small p-val, we can reject the null hypothesis that the rental time is 60 seconds.\n",
    "\n"
   ]
  },
  {
   "cell_type": "markdown",
   "metadata": {},
   "source": [
    "## Exercise 2\n",
    "\n",
    "Twenty five students complete a preparation program for taking the SAT test.  Here are the SAT scores from the 25 students who completed  program:\n",
    "\n",
    "``\n",
    "434 694 457 534 720 400 484 478 610 641 425 636 454\n",
    "514 563 370 499 640 501 625 612 471 598 509 531\n",
    "``\n",
    "\n",
    "<img src=\"http://falearningsolutions.com/wp-content/uploads/2015/09/FAcogtrain71FBimage.jpg\" width=400>\n",
    "\n",
    "We know that the population average for SAT scores is 500 with a standard deviation of 100.\n",
    "\n",
    "The question is, are these students’ SAT scores significantly greater than a population mean? \n",
    "\n",
    "*Note that the the maker of the SAT prep program claims that it will increase (and not decrease) your SAT score.  So, you would be justified in conducting a one-directional test. (alpha = .05).*\n",
    "\n"
   ]
  },
  {
   "cell_type": "code",
   "execution_count": 16,
   "metadata": {},
   "outputs": [
    {
     "name": "stdout",
     "output_type": "stream",
     "text": [
      "My z-statistic is 1.8, my z-score is 0.9640696808870742, and my p-value is 0.03593031911292577\n"
     ]
    }
   ],
   "source": [
    "# State your hypotheses \n",
    "my_scores = np.array([434,694,457,534,720,400,484,478,610,641,425,636,454,514,563,370,499,640,501,625,612,471,598,509,531])\n",
    "my_scores_mean_ha = np.mean(my_scores)\n",
    "my_scores_n = len(my_scores)\n",
    "\n",
    "pop_sat_mean_h0 = 500\n",
    "pop_sat_std = 100\n",
    "\n",
    "my_z_stat_two = (my_scores_mean_ha - pop_sat_mean_h0) / (pop_sat_std / np.sqrt(my_scores_n))\n",
    "my_p_val_two = 1 - stats.norm.cdf(my_z_stat_two)\n",
    "z_score_two = stats.norm.cdf(my_z_stat_two)\n",
    "\n",
    "print(f'My z-statistic is {my_z_stat_two}, my z-score is {z_score_two}, and my p-value is {my_p_val_two}')"
   ]
  },
  {
   "cell_type": "code",
   "execution_count": 19,
   "metadata": {},
   "outputs": [],
   "source": [
    "# Give your solution here \n",
    "\n",
    "\n",
    "\n",
    "# p = 0.03593031911292577, z = 1.8"
   ]
  },
  {
   "cell_type": "code",
   "execution_count": 17,
   "metadata": {},
   "outputs": [],
   "source": [
    "# Interpret the results in terms of p-value obtained\n",
    "# We can reject the null hypothesis that these scores are equal to or less than the mean given p < alpha.\n",
    "# As such, the training has a statistically significant affect on the student SAT scores."
   ]
  },
  {
   "cell_type": "markdown",
   "metadata": {},
   "source": [
    "## Summary\n",
    "\n",
    "In this lesson, we conducted a couple of simple tests comparing sample and population means, in an attempt to reject our null hypotheses. This provides you with a strong foundation to move ahead with more advanced tests and approaches in statistics. "
   ]
  },
  {
   "cell_type": "code",
   "execution_count": null,
   "metadata": {},
   "outputs": [],
   "source": [
    "# Finished January 25, 2019"
   ]
  },
  {
   "cell_type": "code",
   "execution_count": null,
   "metadata": {},
   "outputs": [],
   "source": []
  }
 ],
 "metadata": {
  "kernelspec": {
   "display_name": "Python 3",
   "language": "python",
   "name": "python3"
  },
  "language_info": {
   "codemirror_mode": {
    "name": "ipython",
    "version": 3
   },
   "file_extension": ".py",
   "mimetype": "text/x-python",
   "name": "python",
   "nbconvert_exporter": "python",
   "pygments_lexer": "ipython3",
   "version": "3.6.6"
  }
 },
 "nbformat": 4,
 "nbformat_minor": 2
}
